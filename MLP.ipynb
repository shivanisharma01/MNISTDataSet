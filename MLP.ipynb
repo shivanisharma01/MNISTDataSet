{
  "nbformat": 4,
  "nbformat_minor": 0,
  "metadata": {
    "colab": {
      "name": "MLP.ipynb",
      "provenance": [],
      "collapsed_sections": []
    },
    "kernelspec": {
      "name": "python3",
      "display_name": "Python 3"
    },
    "accelerator": "GPU"
  },
  "cells": [
    {
      "cell_type": "code",
      "metadata": {
        "id": "8NjzOymrh0-E"
      },
      "source": [
        "import numpy as np\n",
        "from keras.datasets import mnist\n",
        "import matplotlib.pyplot as plt"
      ],
      "execution_count": null,
      "outputs": []
    },
    {
      "cell_type": "code",
      "metadata": {
        "id": "3Ar0XN17iQlO",
        "outputId": "d39f2583-3aa6-4a98-9a31-69ff80f50040",
        "colab": {
          "base_uri": "https://localhost:8080/",
          "height": 121
        }
      },
      "source": [
        "(X_train, y_train), (X_test, y_test) = mnist.load_data()\n",
        "\n",
        "train_n = 1024\n",
        "X_train = X_train[:train_n,:,:]\n",
        "X_test = X_test[:train_n,:,:]\n",
        "y_train = y_train[:train_n]\n",
        "y_test = y_test[:train_n]\n",
        "\n",
        "print(X_train.shape)\n",
        "print(X_test.shape)\n",
        "print(y_train.shape)\n",
        "\n",
        "X_train = np.transpose(X_train.reshape(X_train.shape[0], 784)/255)\n",
        "print(X_train.shape)\n",
        "X_test = np.transpose(X_test.reshape(X_test.shape[0], 784)/255)"
      ],
      "execution_count": null,
      "outputs": [
        {
          "output_type": "stream",
          "text": [
            "Downloading data from https://storage.googleapis.com/tensorflow/tf-keras-datasets/mnist.npz\n",
            "11493376/11490434 [==============================] - 0s 0us/step\n",
            "(1024, 28, 28)\n",
            "(1024, 28, 28)\n",
            "(1024,)\n",
            "(784, 1024)\n"
          ],
          "name": "stdout"
        }
      ]
    },
    {
      "cell_type": "code",
      "metadata": {
        "id": "jk_Q7Sq0-kWl"
      },
      "source": [
        "# 0-9 Conversion to ASCII #\n",
        "dict = {0: 48, 1: 49, 2: 50, 3: 51, 4: 52, 5: 53, 6: 54, 7: 55, 8: 56, 9: 57}\n",
        "\n",
        "y_train_ascii = np.array([dict[i] for i in y_train], dtype=np.uint8)\n",
        "y_test_ascii = np.array([dict[i] for i in y_test], dtype=np.uint8)\n",
        "\n",
        "y_train_ascii_bin = np.zeros((1024,8))\n",
        "y_test_ascii_bin = np.zeros((1024,8))\n",
        "\n",
        "count=0\n",
        "for y in y_train_ascii:\n",
        "  y_train_ascii_bin[count] = np.unpackbits(y)\n",
        "  count+=1\n",
        "\n",
        "count=0\n",
        "for z in y_test_ascii:\n",
        "  y_test_ascii_bin[count] = np.unpackbits(z)\n",
        "  count+=1\n",
        "\n",
        "y_train_ascii_bin = np.transpose(y_train_ascii_bin)\n",
        "y_test_ascii_bin = np.transpose(y_test_ascii_bin)"
      ],
      "execution_count": null,
      "outputs": []
    },
    {
      "cell_type": "code",
      "metadata": {
        "id": "sUQZFm3DqjqN"
      },
      "source": [
        "Ni=784; Nh=20; No=8;\n",
        "Ntrials = 1000\n",
        "X = X_train\n",
        "Y = y_train_ascii_bin"
      ],
      "execution_count": null,
      "outputs": []
    },
    {
      "cell_type": "code",
      "metadata": {
        "id": "_t4J3-p7rRbW",
        "outputId": "8169c4f9-63a0-4838-aaaa-fdcb72476be0",
        "colab": {
          "base_uri": "https://localhost:8080/",
          "height": 139
        }
      },
      "source": [
        "weight_h = np.random.randn(Nh, Ni); d_weighth = np.zeros(weight_h.shape)\n",
        "weight_o = np.random.randn(No, Nh); d_weighto = np.zeros(weight_o.shape)\n",
        "error_train = np.array([])\n",
        "error_test = np.array([])\n",
        "# error1 = np.array([])\n",
        "for trial in range(Ntrials):\n",
        "  h = 1/(1+np.exp(-weight_h@X_train))\n",
        "  y = 1/(1+np.exp(-weight_o@h))\n",
        "\n",
        "  do = y*(1-y)*(y_train_ascii_bin-y)\n",
        "  dh = h*(1-h)*(weight_o.transpose()@do)\n",
        "\n",
        "  d_weighto = 0.9*d_weighto+0.1*do@h.T\n",
        "  weight_o  = weight_o+0.1*d_weighto\n",
        "  \n",
        "\n",
        "  d_weighth = 0.9*d_weighth+0.1*dh@X_train.T\n",
        "  weight_h = weight_h+0.1*d_weighth\n",
        "\n",
        "  cost1 = np.sum(abs(Y-y))/2  #absolute\n",
        "  cost2 = np.sum((Y-y)**2)/2  #mean-squared\n",
        "\n",
        "  error_train = np.append(error_train, cost1)\n",
        "  error_test = np.append(error_test, cost2)\n",
        "accuracy_train = (y.size-error_train)/y.size\n",
        "accurayc_test = (y.size-error_test)/y.size\n",
        "\n",
        "print(np.round(y))"
      ],
      "execution_count": null,
      "outputs": [
        {
          "output_type": "stream",
          "text": [
            "[[0. 0. 0. ... 0. 0. 0.]\n",
            " [0. 0. 0. ... 0. 0. 0.]\n",
            " [1. 1. 1. ... 1. 1. 1.]\n",
            " ...\n",
            " [1. 0. 1. ... 0. 1. 1.]\n",
            " [0. 0. 0. ... 1. 1. 1.]\n",
            " [1. 0. 0. ... 1. 1. 1.]]\n"
          ],
          "name": "stdout"
        }
      ]
    },
    {
      "cell_type": "code",
      "metadata": {
        "id": "K5hOzZZBB0xO",
        "outputId": "12945155-6a84-4b93-fc20-737244c1a465",
        "colab": {
          "base_uri": "https://localhost:8080/",
          "height": 283
        }
      },
      "source": [
        "plt.plot(error_train)"
      ],
      "execution_count": null,
      "outputs": [
        {
          "output_type": "execute_result",
          "data": {
            "text/plain": [
              "[<matplotlib.lines.Line2D at 0x7fb88a826a58>]"
            ]
          },
          "metadata": {
            "tags": []
          },
          "execution_count": 15
        },
        {
          "output_type": "display_data",
          "data": {
            "image/png": "[encoded data removed]",
            "text/plain": [
              "<Figure size 432x288 with 1 Axes>"
            ]
          },
          "metadata": {
            "tags": [],
            "needs_background": "light"
          }
        }
      ]
    }
  ]
}