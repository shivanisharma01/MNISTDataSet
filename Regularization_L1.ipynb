{
  "nbformat": 4,
  "nbformat_minor": 0,
  "metadata": {
    "colab": {
      "name": "Regularization L1.ipynb",
      "provenance": [],
      "collapsed_sections": []
    },
    "kernelspec": {
      "name": "python3",
      "display_name": "Python 3"
    }
  },
  "cells": [
    {
      "cell_type": "code",
      "metadata": {
        "id": "sFiQ2YxKeez9"
      },
      "source": [
        "import numpy as np\n",
        "from keras.datasets import mnist\n",
        "import matplotlib.pyplot as plt"
      ],
      "execution_count": null,
      "outputs": []
    },
    {
      "cell_type": "code",
      "metadata": {
        "id": "et1mCALbuTt9",
        "outputId": "b138a269-c682-4112-b87a-f1b1ad6c728f",
        "colab": {
          "base_uri": "https://localhost:8080/",
          "height": 104
        }
      },
      "source": [
        "(X_train, y_train), (X_test, y_test) = mnist.load_data()\n",
        "\n",
        "train_n = 1024\n",
        "X_train = X_train[:train_n,:,:]\n",
        "X_test = X_test[:train_n,:,:]\n",
        "y_train = y_train[:train_n]\n",
        "y_test = y_test[:train_n]\n",
        "\n",
        "print(y_train.shape)\n",
        "\n",
        "X_train = np.transpose(X_train.reshape(X_train.shape[0], 784)/255)\n",
        "print(X_train.shape)\n",
        "X_test = np.transpose(X_test.reshape(X_test.shape[0], 784)/255)\n",
        "print(X_test.shape)"
      ],
      "execution_count": null,
      "outputs": [
        {
          "output_type": "stream",
          "text": [
            "Downloading data from https://storage.googleapis.com/tensorflow/tf-keras-datasets/mnist.npz\n",
            "11493376/11490434 [==============================] - 0s 0us/step\n",
            "(1024,)\n",
            "(784, 1024)\n",
            "(784, 1024)\n"
          ],
          "name": "stdout"
        }
      ]
    },
    {
      "cell_type": "code",
      "metadata": {
        "id": "cnMeEGiWubHr"
      },
      "source": [
        "# 0-9 Conversion to ASCII #\n",
        "dict = {0: 48, 1: 49, 2: 50, 3: 51, 4: 52, 5: 53, 6: 54, 7: 55, 8: 56, 9: 57}\n",
        "\n",
        "y_train_ascii = np.array([dict[i] for i in y_train], dtype=np.uint8)\n",
        "y_test_ascii = np.array([dict[i] for i in y_test], dtype=np.uint8)\n",
        "\n",
        "y_train_ascii_bin = np.zeros((1024,8))\n",
        "y_test_ascii_bin = np.zeros((1024,8))\n",
        "\n",
        "count=0\n",
        "for y in y_train_ascii:\n",
        "  y_train_ascii_bin[count] = np.unpackbits(y)\n",
        "  count+=1\n",
        "\n",
        "count=0\n",
        "for z in y_test_ascii:\n",
        "  y_test_ascii_bin[count] = np.unpackbits(z)\n",
        "  count+=1\n",
        "\n",
        "y_train_ascii_bin = np.transpose(y_train_ascii_bin)\n",
        "\n",
        "y_test_ascii_bin = np.transpose(y_test_ascii_bin)"
      ],
      "execution_count": null,
      "outputs": []
    },
    {
      "cell_type": "code",
      "metadata": {
        "id": "MZ7hR9jDucdP"
      },
      "source": [
        "X = X_train\n",
        "Y = y_train_ascii_bin\n",
        "Ni = 784;\n",
        "Nh=100;\n",
        "No=8;\n",
        "Ntrails = 1000\n",
        "alpha = 0.01\n",
        "Lambda = 0\n",
        "n=train_n"
      ],
      "execution_count": null,
      "outputs": []
    },
    {
      "cell_type": "code",
      "metadata": {
        "id": "VMvZAeszuf_a",
        "outputId": "a8d50039-d660-439c-efb8-4367d2706b04",
        "colab": {
          "base_uri": "https://localhost:8080/",
          "height": 559
        }
      },
      "source": [
        "np.random.seed(0) #Setting seed for reproducibility\n",
        "wh = np.random.randn(Nh, Ni);\n",
        "dwh = np.zeros(wh.shape)\n",
        "np.random.seed(0) #Setting seed for reproducibility\n",
        "wo = np.random.randn(No, Nh);\n",
        "dwo = np.zeros(wo.shape)\n",
        "\n",
        "error_train = np.array([])\n",
        "error_test = np.array([])\n",
        "\n",
        "for trial in range(Ntrails):\n",
        "  h = 1/(1+np.exp(-wh@X))\n",
        "  h_test=1/(1+np.exp(-wh@X_test))\n",
        "  y = 1/(1+np.exp(-wo@h))\n",
        "  y_test=1/(1+np.exp(-wo@h_test))\n",
        "\n",
        "  do = y*(1-y)*(Y-y)\n",
        "  dh = h*(1-h)*(wo.transpose()@do)\n",
        "\n",
        "  dwo = 0.9*dwo+0.1*do@h.T + 2*Lambda*wo\n",
        "  wo = wo+alpha*dwo\n",
        "\n",
        "  dwh = 0.9*dwh+0.1*dh@X.T + 2*Lambda*wh\n",
        "  wh = wh+alpha*dwh\n",
        "\n",
        "  Regularization_l1 =Lambda * (np.sum(np.abs(wo)) + np.sum(np.abs(wh)))\n",
        "\n",
        "  wh = wh*Regularization_l1\n",
        "\n",
        "  cost1 = np.sum(abs(Y-y))/2  #absolute\n",
        "  cost2 = np.sum((Y-y)**2)/2  #mean-squared\n",
        "\n",
        "  error_train = np.append(error_train, cost1 + Regularization_l1)\n",
        "  error_test = np.append(error_test, cost2 + Regularization_l1)\n",
        "\n",
        "# print(np.round(y))\n",
        "# print(np.round(y_test))\n",
        "\n",
        "accuracy_train = (y.size-error_train)/y.size\n",
        "accuracy_test = (y.size-error_test)/y_test.size\n",
        "\n",
        "plt.figure(1)\n",
        "plt.xlabel(\"Iteration\")\n",
        "plt.ylabel(\"Absolute difference\")\n",
        "plt.plot(error_train)\n",
        "plt.plot(error_test,'--')\n",
        "plt.legend(['train', 'test'], loc='upper right')\n",
        "\n",
        "plt.figure(2)\n",
        "plt.xlabel(\"Iteration\")\n",
        "plt.ylabel(\"Accuracy\")\n",
        "plt.plot(accuracy_train)\n",
        "plt.plot(accuracy_test,'--')\n",
        "plt.legend(['train', 'test'], loc='lower right')"
      ],
      "execution_count": null,
      "outputs": [
        {
          "output_type": "execute_result",
          "data": {
            "text/plain": [
              "<matplotlib.legend.Legend at 0x7ff2d28a2f28>"
            ]
          },
          "metadata": {
            "tags": []
          },
          "execution_count": 6
        },
        {
          "output_type": "display_data",
          "data": {
            "image/png": "[encoded data removed]",
            "text/plain": [
              "<Figure size 432x288 with 1 Axes>"
            ]
          },
          "metadata": {
            "tags": [],
            "needs_background": "light"
          }
        },
        {
          "output_type": "display_data",
          "data": {
            "image/png": "[encoded data removed]",
            "text/plain": [
              "<Figure size 432x288 with 1 Axes>"
            ]
          },
          "metadata": {
            "tags": [],
            "needs_background": "light"
          }
        }
      ]
    },
    {
      "cell_type": "code",
      "metadata": {
        "id": "HU7firbjrhW2"
      },
      "source": [
        "x_test_noise = cv2.GaussianBlur(X_test,(5,5), 0)\n",
        "\n",
        "h_test_noise = 1/(1+np.exp(-wh@x_test_noise))\n",
        "y_test_noise = 1/(1+np.exp(-wo@h_test_noise))\n",
        "\n",
        "err_noise = np.sum(abs(y_test_ascii_bin-y_test_noise))\n",
        "\n",
        "noise_accuracy = np.sum(np.all(y_test_ascii_bin == np.round(y_test_noise)), axis=0)\n",
        "noise_accuracy = ((noise_accuracy/train_n))*100;\n",
        "print(err_noise)\n",
        "print(noise_accuracy)"
      ],
      "execution_count": null,
      "outputs": []
    }
  ]
}